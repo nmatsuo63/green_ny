{
 "cells": [
  {
   "cell_type": "code",
   "execution_count": 5,
   "id": "2bc1dc94-cb15-4aab-bded-38a1e5834508",
   "metadata": {
    "tags": []
   },
   "outputs": [],
   "source": [
    "import pandas as pd\n",
    "from datetime import datetime\n",
    "\n",
    "# 学習用データと評価用データを読み込む\n",
    "train = pd.read_csv('../data/smfg_train.csv', index_col=0)\n",
    "test = pd.read_csv('../data/smfg_test.csv', index_col=0)"
   ]
  },
  {
   "cell_type": "code",
   "execution_count": 7,
   "id": "0597a25b-444a-44ab-a2ef-e8906d480fea",
   "metadata": {
    "tags": []
   },
   "outputs": [
    {
     "data": {
      "text/html": [
       "<div>\n",
       "<style scoped>\n",
       "    .dataframe tbody tr th:only-of-type {\n",
       "        vertical-align: middle;\n",
       "    }\n",
       "\n",
       "    .dataframe tbody tr th {\n",
       "        vertical-align: top;\n",
       "    }\n",
       "\n",
       "    .dataframe thead th {\n",
       "        text-align: right;\n",
       "    }\n",
       "</style>\n",
       "<table border=\"1\" class=\"dataframe\">\n",
       "  <thead>\n",
       "    <tr style=\"text-align: right;\">\n",
       "      <th></th>\n",
       "      <th>created_at</th>\n",
       "      <th>created_at</th>\n",
       "      <th>health</th>\n",
       "      <th>tree_dbh</th>\n",
       "      <th>steward</th>\n",
       "      <th>spc_common</th>\n",
       "      <th>nta_name</th>\n",
       "    </tr>\n",
       "  </thead>\n",
       "  <tbody>\n",
       "    <tr>\n",
       "      <th>0</th>\n",
       "      <td>2015-06-29</td>\n",
       "      <td>2015-06-29</td>\n",
       "      <td>1</td>\n",
       "      <td>14</td>\n",
       "      <td>NaN</td>\n",
       "      <td>English oak</td>\n",
       "      <td>Douglas Manor-Douglaston-Little Neck</td>\n",
       "    </tr>\n",
       "    <tr>\n",
       "      <th>1</th>\n",
       "      <td>2016-09-21</td>\n",
       "      <td>2016-09-21</td>\n",
       "      <td>1</td>\n",
       "      <td>5</td>\n",
       "      <td>3or4</td>\n",
       "      <td>crimson king maple</td>\n",
       "      <td>Bedford Park-Fordham North</td>\n",
       "    </tr>\n",
       "    <tr>\n",
       "      <th>2</th>\n",
       "      <td>2015-09-13</td>\n",
       "      <td>2015-09-13</td>\n",
       "      <td>2</td>\n",
       "      <td>26</td>\n",
       "      <td>NaN</td>\n",
       "      <td>English oak</td>\n",
       "      <td>Annadale-Huguenot-Prince's Bay-Eltingville</td>\n",
       "    </tr>\n",
       "    <tr>\n",
       "      <th>3</th>\n",
       "      <td>2016-05-09</td>\n",
       "      <td>2016-05-09</td>\n",
       "      <td>0</td>\n",
       "      <td>15</td>\n",
       "      <td>NaN</td>\n",
       "      <td>honeylocust</td>\n",
       "      <td>Charleston-Richmond Valley-Tottenville</td>\n",
       "    </tr>\n",
       "    <tr>\n",
       "      <th>4</th>\n",
       "      <td>2016-06-24</td>\n",
       "      <td>2016-06-24</td>\n",
       "      <td>1</td>\n",
       "      <td>23</td>\n",
       "      <td>NaN</td>\n",
       "      <td>London planetree</td>\n",
       "      <td>Central Harlem North-Polo Grounds</td>\n",
       "    </tr>\n",
       "  </tbody>\n",
       "</table>\n",
       "</div>"
      ],
      "text/plain": [
       "   created_at  created_at  health  tree_dbh steward          spc_common  \\\n",
       "0  2015-06-29  2015-06-29       1        14     NaN         English oak   \n",
       "1  2016-09-21  2016-09-21       1         5    3or4  crimson king maple   \n",
       "2  2015-09-13  2015-09-13       2        26     NaN         English oak   \n",
       "3  2016-05-09  2016-05-09       0        15     NaN         honeylocust   \n",
       "4  2016-06-24  2016-06-24       1        23     NaN    London planetree   \n",
       "\n",
       "                                     nta_name  \n",
       "0        Douglas Manor-Douglaston-Little Neck  \n",
       "1                  Bedford Park-Fordham North  \n",
       "2  Annadale-Huguenot-Prince's Bay-Eltingville  \n",
       "3      Charleston-Richmond Valley-Tottenville  \n",
       "4           Central Harlem North-Polo Grounds  "
      ]
     },
     "execution_count": 7,
     "metadata": {},
     "output_type": "execute_result"
    }
   ],
   "source": [
    "train[['created_at', 'created_at', 'health', 'tree_dbh', 'steward', 'spc_common', 'nta_name']].head()"
   ]
  },
  {
   "cell_type": "code",
   "execution_count": 8,
   "id": "ad66d7b7-1368-4388-84f8-43b6eea71629",
   "metadata": {
    "tags": []
   },
   "outputs": [
    {
     "data": {
      "text/html": [
       "<div>\n",
       "<style scoped>\n",
       "    .dataframe tbody tr th:only-of-type {\n",
       "        vertical-align: middle;\n",
       "    }\n",
       "\n",
       "    .dataframe tbody tr th {\n",
       "        vertical-align: top;\n",
       "    }\n",
       "\n",
       "    .dataframe thead th {\n",
       "        text-align: right;\n",
       "    }\n",
       "</style>\n",
       "<table border=\"1\" class=\"dataframe\">\n",
       "  <thead>\n",
       "    <tr style=\"text-align: right;\">\n",
       "      <th></th>\n",
       "      <th>created_at</th>\n",
       "      <th>created_at</th>\n",
       "      <th>tree_dbh</th>\n",
       "      <th>steward</th>\n",
       "      <th>spc_common</th>\n",
       "      <th>nta_name</th>\n",
       "    </tr>\n",
       "  </thead>\n",
       "  <tbody>\n",
       "    <tr>\n",
       "      <th>19984</th>\n",
       "      <td>2015-09-08</td>\n",
       "      <td>2015-09-08</td>\n",
       "      <td>15</td>\n",
       "      <td>NaN</td>\n",
       "      <td>Callery pear</td>\n",
       "      <td>Sheepshead Bay-Gerritsen Beach-Manhattan Beach</td>\n",
       "    </tr>\n",
       "    <tr>\n",
       "      <th>19985</th>\n",
       "      <td>2015-10-15</td>\n",
       "      <td>2015-10-15</td>\n",
       "      <td>5</td>\n",
       "      <td>1or2</td>\n",
       "      <td>cherry</td>\n",
       "      <td>Woodlawn-Wakefield</td>\n",
       "    </tr>\n",
       "    <tr>\n",
       "      <th>19986</th>\n",
       "      <td>2016-08-03</td>\n",
       "      <td>2016-08-03</td>\n",
       "      <td>4</td>\n",
       "      <td>NaN</td>\n",
       "      <td>littleleaf linden</td>\n",
       "      <td>Kew Gardens</td>\n",
       "    </tr>\n",
       "    <tr>\n",
       "      <th>19987</th>\n",
       "      <td>2015-08-06</td>\n",
       "      <td>2015-08-06</td>\n",
       "      <td>7</td>\n",
       "      <td>NaN</td>\n",
       "      <td>dawn redwood</td>\n",
       "      <td>Brooklyn Heights-Cobble Hill</td>\n",
       "    </tr>\n",
       "    <tr>\n",
       "      <th>19988</th>\n",
       "      <td>2015-10-21</td>\n",
       "      <td>2015-10-21</td>\n",
       "      <td>6</td>\n",
       "      <td>1or2</td>\n",
       "      <td>purple-leaf plum</td>\n",
       "      <td>Bedford</td>\n",
       "    </tr>\n",
       "  </tbody>\n",
       "</table>\n",
       "</div>"
      ],
      "text/plain": [
       "       created_at  created_at  tree_dbh steward         spc_common  \\\n",
       "19984  2015-09-08  2015-09-08        15     NaN       Callery pear   \n",
       "19985  2015-10-15  2015-10-15         5    1or2             cherry   \n",
       "19986  2016-08-03  2016-08-03         4     NaN  littleleaf linden   \n",
       "19987  2015-08-06  2015-08-06         7     NaN       dawn redwood   \n",
       "19988  2015-10-21  2015-10-21         6    1or2   purple-leaf plum   \n",
       "\n",
       "                                             nta_name  \n",
       "19984  Sheepshead Bay-Gerritsen Beach-Manhattan Beach  \n",
       "19985                              Woodlawn-Wakefield  \n",
       "19986                                     Kew Gardens  \n",
       "19987                    Brooklyn Heights-Cobble Hill  \n",
       "19988                                         Bedford  "
      ]
     },
     "execution_count": 8,
     "metadata": {},
     "output_type": "execute_result"
    }
   ],
   "source": [
    "test[['created_at', 'created_at', 'tree_dbh', 'steward', 'spc_common', 'nta_name']].head()"
   ]
  },
  {
   "cell_type": "code",
   "execution_count": 9,
   "id": "0bc1a3f9-5dd0-48f8-8488-78f6d72e9d3d",
   "metadata": {
    "tags": []
   },
   "outputs": [
    {
     "data": {
      "text/plain": [
       "Index(['created_at', 'tree_dbh', 'curb_loc', 'steward', 'guards', 'sidewalk',\n",
       "       'user_type', 'problems', 'spc_common', 'spc_latin', 'nta', 'nta_name',\n",
       "       'borocode', 'boro_ct', 'boroname', 'zip_city', 'cb_num', 'st_senate',\n",
       "       'st_assem', 'cncldist'],\n",
       "      dtype='object')"
      ]
     },
     "execution_count": 9,
     "metadata": {},
     "output_type": "execute_result"
    }
   ],
   "source": [
    "test.columns"
   ]
  },
  {
   "cell_type": "code",
   "execution_count": 10,
   "id": "531f86bd-d03d-4ce7-a436-326bd7ea20a5",
   "metadata": {
    "tags": []
   },
   "outputs": [
    {
     "data": {
      "text/plain": [
       "created_at        0\n",
       "tree_dbh          0\n",
       "curb_loc          0\n",
       "health            0\n",
       "steward       14883\n",
       "guards        14943\n",
       "sidewalk          0\n",
       "user_type         0\n",
       "problems      12243\n",
       "spc_common        0\n",
       "spc_latin         0\n",
       "nta               0\n",
       "nta_name          0\n",
       "borocode          0\n",
       "boro_ct           0\n",
       "boroname          0\n",
       "zip_city          0\n",
       "cb_num            0\n",
       "st_senate         0\n",
       "st_assem          0\n",
       "cncldist          0\n",
       "dtype: int64"
      ]
     },
     "execution_count": 10,
     "metadata": {},
     "output_type": "execute_result"
    }
   ],
   "source": [
    "train.isnull().sum()"
   ]
  },
  {
   "cell_type": "code",
   "execution_count": 11,
   "id": "67403651-5c87-4532-ab55-eac7e153ff63",
   "metadata": {
    "tags": []
   },
   "outputs": [
    {
     "data": {
      "text/plain": [
       "steward\n",
       "1or2       3999\n",
       "3or4       1079\n",
       "4orMore      23\n",
       "Name: count, dtype: int64"
      ]
     },
     "execution_count": 11,
     "metadata": {},
     "output_type": "execute_result"
    }
   ],
   "source": [
    "train['steward'].value_counts()\n"
   ]
  },
  {
   "cell_type": "code",
   "execution_count": 12,
   "id": "dab619c5-cb29-43e7-8c44-942f86a0c437",
   "metadata": {
    "tags": []
   },
   "outputs": [],
   "source": [
    "train.fillna('NULL', inplace=True)\n"
   ]
  },
  {
   "cell_type": "code",
   "execution_count": 13,
   "id": "3b11611f-06f7-42ab-afcd-06e00fd73d71",
   "metadata": {
    "tags": []
   },
   "outputs": [
    {
     "data": {
      "text/plain": [
       "74"
      ]
     },
     "execution_count": 13,
     "metadata": {},
     "output_type": "execute_result"
    }
   ],
   "source": [
    "train['problems'].nunique()\n"
   ]
  },
  {
   "cell_type": "code",
   "execution_count": 14,
   "id": "1ff55c5c-3205-443f-861d-dd8fd31c9595",
   "metadata": {
    "tags": []
   },
   "outputs": [],
   "source": [
    "train['bool_problems'] = train['problems'].apply(lambda x: 0 if x=='NULL' else 1)"
   ]
  },
  {
   "cell_type": "code",
   "execution_count": 15,
   "id": "3dd48fc9-9635-4f72-b852-f7f92099cb81",
   "metadata": {
    "tags": []
   },
   "outputs": [
    {
     "data": {
      "text/html": [
       "<div>\n",
       "<style scoped>\n",
       "    .dataframe tbody tr th:only-of-type {\n",
       "        vertical-align: middle;\n",
       "    }\n",
       "\n",
       "    .dataframe tbody tr th {\n",
       "        vertical-align: top;\n",
       "    }\n",
       "\n",
       "    .dataframe thead th {\n",
       "        text-align: right;\n",
       "    }\n",
       "</style>\n",
       "<table border=\"1\" class=\"dataframe\">\n",
       "  <thead>\n",
       "    <tr style=\"text-align: right;\">\n",
       "      <th></th>\n",
       "      <th>created_at</th>\n",
       "      <th>created_at</th>\n",
       "      <th>health</th>\n",
       "      <th>tree_dbh</th>\n",
       "      <th>steward</th>\n",
       "      <th>spc_common</th>\n",
       "      <th>nta_name</th>\n",
       "      <th>bool_problems</th>\n",
       "    </tr>\n",
       "  </thead>\n",
       "  <tbody>\n",
       "    <tr>\n",
       "      <th>0</th>\n",
       "      <td>2015-06-29</td>\n",
       "      <td>2015-06-29</td>\n",
       "      <td>1</td>\n",
       "      <td>14</td>\n",
       "      <td>NULL</td>\n",
       "      <td>English oak</td>\n",
       "      <td>Douglas Manor-Douglaston-Little Neck</td>\n",
       "      <td>0</td>\n",
       "    </tr>\n",
       "    <tr>\n",
       "      <th>1</th>\n",
       "      <td>2016-09-21</td>\n",
       "      <td>2016-09-21</td>\n",
       "      <td>1</td>\n",
       "      <td>5</td>\n",
       "      <td>3or4</td>\n",
       "      <td>crimson king maple</td>\n",
       "      <td>Bedford Park-Fordham North</td>\n",
       "      <td>0</td>\n",
       "    </tr>\n",
       "    <tr>\n",
       "      <th>2</th>\n",
       "      <td>2015-09-13</td>\n",
       "      <td>2015-09-13</td>\n",
       "      <td>2</td>\n",
       "      <td>26</td>\n",
       "      <td>NULL</td>\n",
       "      <td>English oak</td>\n",
       "      <td>Annadale-Huguenot-Prince's Bay-Eltingville</td>\n",
       "      <td>1</td>\n",
       "    </tr>\n",
       "    <tr>\n",
       "      <th>3</th>\n",
       "      <td>2016-05-09</td>\n",
       "      <td>2016-05-09</td>\n",
       "      <td>0</td>\n",
       "      <td>15</td>\n",
       "      <td>NULL</td>\n",
       "      <td>honeylocust</td>\n",
       "      <td>Charleston-Richmond Valley-Tottenville</td>\n",
       "      <td>0</td>\n",
       "    </tr>\n",
       "    <tr>\n",
       "      <th>4</th>\n",
       "      <td>2016-06-24</td>\n",
       "      <td>2016-06-24</td>\n",
       "      <td>1</td>\n",
       "      <td>23</td>\n",
       "      <td>NULL</td>\n",
       "      <td>London planetree</td>\n",
       "      <td>Central Harlem North-Polo Grounds</td>\n",
       "      <td>1</td>\n",
       "    </tr>\n",
       "  </tbody>\n",
       "</table>\n",
       "</div>"
      ],
      "text/plain": [
       "   created_at  created_at  health  tree_dbh steward          spc_common  \\\n",
       "0  2015-06-29  2015-06-29       1        14    NULL         English oak   \n",
       "1  2016-09-21  2016-09-21       1         5    3or4  crimson king maple   \n",
       "2  2015-09-13  2015-09-13       2        26    NULL         English oak   \n",
       "3  2016-05-09  2016-05-09       0        15    NULL         honeylocust   \n",
       "4  2016-06-24  2016-06-24       1        23    NULL    London planetree   \n",
       "\n",
       "                                     nta_name  bool_problems  \n",
       "0        Douglas Manor-Douglaston-Little Neck              0  \n",
       "1                  Bedford Park-Fordham North              0  \n",
       "2  Annadale-Huguenot-Prince's Bay-Eltingville              1  \n",
       "3      Charleston-Richmond Valley-Tottenville              0  \n",
       "4           Central Harlem North-Polo Grounds              1  "
      ]
     },
     "execution_count": 15,
     "metadata": {},
     "output_type": "execute_result"
    }
   ],
   "source": [
    "(\n",
    "    train[['created_at', 'created_at', 'health', \n",
    "           'tree_dbh', 'steward', 'spc_common', \n",
    "           'nta_name', 'bool_problems']]\n",
    "    .head()\n",
    ")"
   ]
  },
  {
   "cell_type": "code",
   "execution_count": 16,
   "id": "9b9b7da7-ae46-4fb1-9fb4-c2fb15179e54",
   "metadata": {
    "tags": []
   },
   "outputs": [],
   "source": [
    "test.fillna('NULL', inplace=True)\n",
    "test['bool_problems'] = test['problems'].apply(lambda x: 0 if x=='NULL' else 1)\n"
   ]
  },
  {
   "cell_type": "code",
   "execution_count": 18,
   "id": "78a8a83d-405b-45c5-8ba4-a94c9e8a6092",
   "metadata": {
    "tags": []
   },
   "outputs": [],
   "source": [
    "from sklearn.model_selection import train_test_split\n",
    "# stratifyを設定することで目的変数の分布を保ったまま分割することができます。\n",
    "train, valid = train_test_split(train, test_size=0.2, stratify=train['health'], random_state=82)\n"
   ]
  },
  {
   "cell_type": "code",
   "execution_count": 19,
   "id": "57201044-fdce-46c3-a97b-d36f209c2352",
   "metadata": {
    "tags": []
   },
   "outputs": [],
   "source": [
    "# 使用する特徴量の選択\n",
    "select_cols = ['tree_dbh', 'curb_loc', 'sidewalk', 'steward', 'guards', 'user_type', 'bool_problems']\n",
    "\n",
    "# 目的変数とそれ以外に学習用データを分割\n",
    "x_train = train[select_cols]\n",
    "y_train = train['health']\n",
    "x_valid = valid[select_cols]\n",
    "y_valid = valid['health']\n",
    "\n",
    "# カテゴリのままでは学習できないのでワンホットエンコーディングで数値化\n",
    "x_train = pd.get_dummies(x_train)\n",
    "x_valid = pd.get_dummies(x_valid)\n",
    "test =pd.get_dummies(test[select_cols])\n"
   ]
  },
  {
   "cell_type": "code",
   "execution_count": 20,
   "id": "152ac351-4c25-4844-9f26-2c78756891bf",
   "metadata": {
    "tags": []
   },
   "outputs": [
    {
     "name": "stdout",
     "output_type": "stream",
     "text": [
      "Validation F1 Score (Macro): 0.3185537225121036\n"
     ]
    }
   ],
   "source": [
    "from sklearn.ensemble import RandomForestClassifier\n",
    "from sklearn.metrics import f1_score\n",
    "\n",
    "model = RandomForestClassifier()\n",
    "model.fit(x_train, y_train)\n",
    "\n",
    "valid_predictions = model.predict(x_valid)\n",
    "valid_f1 = f1_score(y_valid, valid_predictions, average='macro')\n",
    "print(f\"Validation F1 Score (Macro): {valid_f1}\")\n"
   ]
  },
  {
   "cell_type": "code",
   "execution_count": 21,
   "id": "6f5b38ab-875a-4f4e-a5fa-b2a740454e2c",
   "metadata": {
    "tags": []
   },
   "outputs": [
    {
     "name": "stdout",
     "output_type": "stream",
     "text": [
      "[1 1 1 1 1]\n"
     ]
    }
   ],
   "source": [
    "pred = model.predict(test)\n",
    "print(pred[:5])\n"
   ]
  },
  {
   "cell_type": "code",
   "execution_count": 23,
   "id": "391109af-d814-4502-8cac-2f6afedf5cc4",
   "metadata": {
    "tags": []
   },
   "outputs": [],
   "source": [
    "sample_submit = pd.read_csv('../data/sample_submission.csv', index_col=0, header=None) # 応募用サンプルファイル\n",
    "sample_submit[1] = pred\n",
    "sample_submit.to_csv('../submit/submit1.csv', header=None)"
   ]
  },
  {
   "cell_type": "code",
   "execution_count": null,
   "id": "8e42b620-8811-49df-832a-4d8ba3612ef5",
   "metadata": {},
   "outputs": [],
   "source": []
  }
 ],
 "metadata": {
  "kernelspec": {
   "display_name": "conda_python3",
   "language": "python",
   "name": "conda_python3"
  },
  "language_info": {
   "codemirror_mode": {
    "name": "ipython",
    "version": 3
   },
   "file_extension": ".py",
   "mimetype": "text/x-python",
   "name": "python",
   "nbconvert_exporter": "python",
   "pygments_lexer": "ipython3",
   "version": "3.10.13"
  }
 },
 "nbformat": 4,
 "nbformat_minor": 5
}
