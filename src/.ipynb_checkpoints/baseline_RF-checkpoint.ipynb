{
 "cells": [
  {
   "cell_type": "code",
   "execution_count": 1,
   "id": "2bc1dc94-cb15-4aab-bded-38a1e5834508",
   "metadata": {
    "tags": []
   },
   "outputs": [
    {
     "name": "stderr",
     "output_type": "stream",
     "text": [
      "/home/ec2-user/anaconda3/envs/python3/lib/python3.10/site-packages/pandas/core/computation/expressions.py:21: UserWarning: Pandas requires version '2.8.0' or newer of 'numexpr' (version '2.7.3' currently installed).\n",
      "  from pandas.core.computation.check import NUMEXPR_INSTALLED\n"
     ]
    }
   ],
   "source": [
    "import pandas as pd\n",
    "from datetime import datetime"
   ]
  },
  {
   "cell_type": "markdown",
   "id": "eec3199f-3875-47e9-b262-6c51d768edf4",
   "metadata": {},
   "source": [
    "## データ読み込み"
   ]
  },
  {
   "cell_type": "code",
   "execution_count": 2,
   "id": "0c0ab9e7-2468-4289-9e62-651d495b6197",
   "metadata": {
    "tags": []
   },
   "outputs": [],
   "source": [
    "# 学習用データと評価用データを読み込む\n",
    "train_org = pd.read_csv('../data/smfg_train.csv', index_col=0)\n",
    "test_org = pd.read_csv('../data/smfg_test.csv', index_col=0)"
   ]
  },
  {
   "cell_type": "code",
   "execution_count": 3,
   "id": "0597a25b-444a-44ab-a2ef-e8906d480fea",
   "metadata": {
    "tags": []
   },
   "outputs": [
    {
     "data": {
      "text/html": [
       "<div>\n",
       "<style scoped>\n",
       "    .dataframe tbody tr th:only-of-type {\n",
       "        vertical-align: middle;\n",
       "    }\n",
       "\n",
       "    .dataframe tbody tr th {\n",
       "        vertical-align: top;\n",
       "    }\n",
       "\n",
       "    .dataframe thead th {\n",
       "        text-align: right;\n",
       "    }\n",
       "</style>\n",
       "<table border=\"1\" class=\"dataframe\">\n",
       "  <thead>\n",
       "    <tr style=\"text-align: right;\">\n",
       "      <th></th>\n",
       "      <th>created_at</th>\n",
       "      <th>health</th>\n",
       "      <th>tree_dbh</th>\n",
       "      <th>steward</th>\n",
       "      <th>spc_common</th>\n",
       "      <th>nta_name</th>\n",
       "    </tr>\n",
       "  </thead>\n",
       "  <tbody>\n",
       "    <tr>\n",
       "      <th>0</th>\n",
       "      <td>2015-06-29</td>\n",
       "      <td>1</td>\n",
       "      <td>14</td>\n",
       "      <td>NaN</td>\n",
       "      <td>English oak</td>\n",
       "      <td>Douglas Manor-Douglaston-Little Neck</td>\n",
       "    </tr>\n",
       "    <tr>\n",
       "      <th>1</th>\n",
       "      <td>2016-09-21</td>\n",
       "      <td>1</td>\n",
       "      <td>5</td>\n",
       "      <td>3or4</td>\n",
       "      <td>crimson king maple</td>\n",
       "      <td>Bedford Park-Fordham North</td>\n",
       "    </tr>\n",
       "    <tr>\n",
       "      <th>2</th>\n",
       "      <td>2015-09-13</td>\n",
       "      <td>2</td>\n",
       "      <td>26</td>\n",
       "      <td>NaN</td>\n",
       "      <td>English oak</td>\n",
       "      <td>Annadale-Huguenot-Prince's Bay-Eltingville</td>\n",
       "    </tr>\n",
       "    <tr>\n",
       "      <th>3</th>\n",
       "      <td>2016-05-09</td>\n",
       "      <td>0</td>\n",
       "      <td>15</td>\n",
       "      <td>NaN</td>\n",
       "      <td>honeylocust</td>\n",
       "      <td>Charleston-Richmond Valley-Tottenville</td>\n",
       "    </tr>\n",
       "    <tr>\n",
       "      <th>4</th>\n",
       "      <td>2016-06-24</td>\n",
       "      <td>1</td>\n",
       "      <td>23</td>\n",
       "      <td>NaN</td>\n",
       "      <td>London planetree</td>\n",
       "      <td>Central Harlem North-Polo Grounds</td>\n",
       "    </tr>\n",
       "  </tbody>\n",
       "</table>\n",
       "</div>"
      ],
      "text/plain": [
       "   created_at  health  tree_dbh steward          spc_common  \\\n",
       "0  2015-06-29       1        14     NaN         English oak   \n",
       "1  2016-09-21       1         5    3or4  crimson king maple   \n",
       "2  2015-09-13       2        26     NaN         English oak   \n",
       "3  2016-05-09       0        15     NaN         honeylocust   \n",
       "4  2016-06-24       1        23     NaN    London planetree   \n",
       "\n",
       "                                     nta_name  \n",
       "0        Douglas Manor-Douglaston-Little Neck  \n",
       "1                  Bedford Park-Fordham North  \n",
       "2  Annadale-Huguenot-Prince's Bay-Eltingville  \n",
       "3      Charleston-Richmond Valley-Tottenville  \n",
       "4           Central Harlem North-Polo Grounds  "
      ]
     },
     "execution_count": 3,
     "metadata": {},
     "output_type": "execute_result"
    }
   ],
   "source": [
    "train_org[['created_at', 'health', 'tree_dbh', 'steward', 'spc_common', 'nta_name']].head()"
   ]
  },
  {
   "cell_type": "markdown",
   "id": "f68691ef-d3e0-4233-afa8-05296cc0068d",
   "metadata": {},
   "source": [
    "## データセット作成"
   ]
  },
  {
   "cell_type": "code",
   "execution_count": 4,
   "id": "74aefffd-e924-4366-bf76-8e4e5510149d",
   "metadata": {
    "tags": []
   },
   "outputs": [
    {
     "data": {
      "text/html": [
       "<div>\n",
       "<style scoped>\n",
       "    .dataframe tbody tr th:only-of-type {\n",
       "        vertical-align: middle;\n",
       "    }\n",
       "\n",
       "    .dataframe tbody tr th {\n",
       "        vertical-align: top;\n",
       "    }\n",
       "\n",
       "    .dataframe thead th {\n",
       "        text-align: right;\n",
       "    }\n",
       "</style>\n",
       "<table border=\"1\" class=\"dataframe\">\n",
       "  <thead>\n",
       "    <tr style=\"text-align: right;\">\n",
       "      <th></th>\n",
       "      <th>created_at</th>\n",
       "      <th>health</th>\n",
       "      <th>tree_dbh</th>\n",
       "      <th>steward</th>\n",
       "      <th>spc_common</th>\n",
       "      <th>nta_name</th>\n",
       "      <th>is_test</th>\n",
       "    </tr>\n",
       "  </thead>\n",
       "  <tbody>\n",
       "    <tr>\n",
       "      <th>0</th>\n",
       "      <td>2015-06-29</td>\n",
       "      <td>1</td>\n",
       "      <td>14</td>\n",
       "      <td>NaN</td>\n",
       "      <td>English oak</td>\n",
       "      <td>Douglas Manor-Douglaston-Little Neck</td>\n",
       "      <td>0</td>\n",
       "    </tr>\n",
       "    <tr>\n",
       "      <th>1</th>\n",
       "      <td>2016-09-21</td>\n",
       "      <td>1</td>\n",
       "      <td>5</td>\n",
       "      <td>3or4</td>\n",
       "      <td>crimson king maple</td>\n",
       "      <td>Bedford Park-Fordham North</td>\n",
       "      <td>0</td>\n",
       "    </tr>\n",
       "    <tr>\n",
       "      <th>2</th>\n",
       "      <td>2015-09-13</td>\n",
       "      <td>2</td>\n",
       "      <td>26</td>\n",
       "      <td>NaN</td>\n",
       "      <td>English oak</td>\n",
       "      <td>Annadale-Huguenot-Prince's Bay-Eltingville</td>\n",
       "      <td>0</td>\n",
       "    </tr>\n",
       "    <tr>\n",
       "      <th>3</th>\n",
       "      <td>2016-05-09</td>\n",
       "      <td>0</td>\n",
       "      <td>15</td>\n",
       "      <td>NaN</td>\n",
       "      <td>honeylocust</td>\n",
       "      <td>Charleston-Richmond Valley-Tottenville</td>\n",
       "      <td>0</td>\n",
       "    </tr>\n",
       "    <tr>\n",
       "      <th>4</th>\n",
       "      <td>2016-06-24</td>\n",
       "      <td>1</td>\n",
       "      <td>23</td>\n",
       "      <td>NaN</td>\n",
       "      <td>London planetree</td>\n",
       "      <td>Central Harlem North-Polo Grounds</td>\n",
       "      <td>0</td>\n",
       "    </tr>\n",
       "  </tbody>\n",
       "</table>\n",
       "</div>"
      ],
      "text/plain": [
       "   created_at  health  tree_dbh steward          spc_common  \\\n",
       "0  2015-06-29       1        14     NaN         English oak   \n",
       "1  2016-09-21       1         5    3or4  crimson king maple   \n",
       "2  2015-09-13       2        26     NaN         English oak   \n",
       "3  2016-05-09       0        15     NaN         honeylocust   \n",
       "4  2016-06-24       1        23     NaN    London planetree   \n",
       "\n",
       "                                     nta_name  is_test  \n",
       "0        Douglas Manor-Douglaston-Little Neck        0  \n",
       "1                  Bedford Park-Fordham North        0  \n",
       "2  Annadale-Huguenot-Prince's Bay-Eltingville        0  \n",
       "3      Charleston-Richmond Valley-Tottenville        0  \n",
       "4           Central Harlem North-Polo Grounds        0  "
      ]
     },
     "execution_count": 4,
     "metadata": {},
     "output_type": "execute_result"
    }
   ],
   "source": [
    "# train由来は0、test由来は1とする列を追加\n",
    "train_org['is_test'] = 0\n",
    "test_org['is_test'] = 1\n",
    "\n",
    "# ユニオン前にカラムを揃える\n",
    "# testには目的変数（health）が含まれていないので、ダミー変数を追加\n",
    "test_org['health'] = -1  # 仮の値を割り当て\n",
    "\n",
    "# trainとtestをユニオン（結合）\n",
    "dataset = pd.concat([train_org, test_org], ignore_index=True)\n",
    "dataset[['created_at', 'health', 'tree_dbh', 'steward', 'spc_common', 'nta_name', 'is_test']].head()"
   ]
  },
  {
   "cell_type": "markdown",
   "id": "1e869ce0-ed84-4abc-829a-6d0dbeaa300d",
   "metadata": {},
   "source": [
    "## 特徴量エンジニアリング"
   ]
  },
  {
   "cell_type": "code",
   "execution_count": 5,
   "id": "317525bc-e4be-487a-991e-75dd31c2133d",
   "metadata": {
    "tags": []
   },
   "outputs": [],
   "source": [
    "def create_feature(train_org):\n",
    "    train = train_org.copy()\n",
    "    train.fillna('NULL', inplace=True)\n",
    "    train['bool_problems'] = train['problems'].apply(lambda x: 0 if x=='NULL' else 1)\n",
    "    \n",
    "    # created_atをdatetime型に変換\n",
    "    train['created_at'] = pd.to_datetime(train['created_at'])\n",
    "\n",
    "    # 季節の特徴量\n",
    "    # 12~2: 1, 3~5: 2, 6~8: 3, 9~11=4\n",
    "    train['season'] = train['created_at'].dt.month%12 // 3 + 1\n",
    "    train[['created_at', 'health', 'season']][10:15]\n",
    "    \n",
    "    # 歩道の状態の影響を数値化\n",
    "    sidewalk_condition = {'NoDamage': 1, 'Damage': 2}\n",
    "    train['sidewalk_impact'] = train['sidewalk'].map(sidewalk_condition)\n",
    "    \n",
    "    # 保護の状態の影響を数値化\n",
    "    guards_condition = {'Helpful': 3, 'Harmful': 0, 'Unsure': 2, 'NULL': 1}\n",
    "    train['guards_impact'] = train['guards'].map(guards_condition)\n",
    "\n",
    "    # 木の管理者の影響を数値化\n",
    "    steward_condition = {'4orMore': 3, '3or4': 2, '1or2': 1, 'NULL': 0}\n",
    "    train['num_steward'] = train['steward'].map(steward_condition)\n",
    "    \n",
    "    # 木の種類の頻度を計算\n",
    "    tree_type_freq = train['spc_common'].value_counts().rename('tree_type_freq')\n",
    "    train['tree_type_freq'] = train['spc_common'].map(tree_type_freq)\n",
    "\n",
    "    # 地域ごとの木の健康状態の平均を計算し、列名を変更\n",
    "    nta_health_avg = train.groupby('nta')['health'].mean().rename('nta_health_avg')\n",
    "    nta_health_avg_df = nta_health_avg.reset_index()\n",
    "    if 'nta_health_avg' in train.columns:\n",
    "        train = train.drop(columns=['nta_health_avg'])\n",
    "    train = train.merge(nta_health_avg_df, on='nta', how='left')\n",
    "\n",
    "    # 地域ごとの木の種類の多様性\n",
    "    nta_spc_diversity = train.groupby('nta')['spc_common'].nunique().rename('nta_spc_diversity')\n",
    "    nta_spc_diversity_df = nta_spc_diversity.reset_index()\n",
    "    if 'nta_spc_diversity' in train.columns:\n",
    "        train = train.drop(columns=['nta_spc_diversity'])\n",
    "    train = train.merge(nta_spc_diversity_df, on='nta', how='left')\n",
    "    \n",
    "    # エリア内の平均木直径を計算\n",
    "    nta_avg_dbh = train.groupby('nta')['tree_dbh'].mean().rename('nta_avg_dbh')\n",
    "    nta_avg_dbh_df = nta_avg_dbh.reset_index()\n",
    "    if 'nta_avg_dbh' in train.columns:\n",
    "        train = train.drop(columns=['nta_avg_dbh'])\n",
    "    train = train.merge(nta_avg_dbh_df, on='nta', how='left')\n",
    "\n",
    "    # 木種の人気度を計算\n",
    "    spc_popularity = train['spc_common'].value_counts().rename('spc_popularity').reset_index()\n",
    "    spc_popularity = spc_popularity.rename(columns={'index': 'spc_common'})\n",
    "    if 'spc_popularity' in train.columns:\n",
    "        train = train.drop(columns=['spc_popularity'])\n",
    "    train = train.merge(spc_popularity, on='spc_common', how='left')\n",
    "    \n",
    "    return train"
   ]
  },
  {
   "cell_type": "code",
   "execution_count": 6,
   "id": "31ca6fb6-ea48-4037-b56e-28d55beca157",
   "metadata": {
    "tags": []
   },
   "outputs": [],
   "source": [
    "dataset1 = create_feature(dataset)"
   ]
  },
  {
   "cell_type": "code",
   "execution_count": 7,
   "id": "7b91fce5-c613-4eeb-834f-d78b6148eda9",
   "metadata": {
    "tags": []
   },
   "outputs": [
    {
     "data": {
      "text/html": [
       "<div>\n",
       "<style scoped>\n",
       "    .dataframe tbody tr th:only-of-type {\n",
       "        vertical-align: middle;\n",
       "    }\n",
       "\n",
       "    .dataframe tbody tr th {\n",
       "        vertical-align: top;\n",
       "    }\n",
       "\n",
       "    .dataframe thead th {\n",
       "        text-align: right;\n",
       "    }\n",
       "</style>\n",
       "<table border=\"1\" class=\"dataframe\">\n",
       "  <thead>\n",
       "    <tr style=\"text-align: right;\">\n",
       "      <th></th>\n",
       "      <th>sidewalk</th>\n",
       "      <th>sidewalk_impact</th>\n",
       "    </tr>\n",
       "  </thead>\n",
       "  <tbody>\n",
       "    <tr>\n",
       "      <th>0</th>\n",
       "      <td>Damage</td>\n",
       "      <td>2</td>\n",
       "    </tr>\n",
       "    <tr>\n",
       "      <th>1</th>\n",
       "      <td>NoDamage</td>\n",
       "      <td>1</td>\n",
       "    </tr>\n",
       "    <tr>\n",
       "      <th>2</th>\n",
       "      <td>NoDamage</td>\n",
       "      <td>1</td>\n",
       "    </tr>\n",
       "    <tr>\n",
       "      <th>3</th>\n",
       "      <td>Damage</td>\n",
       "      <td>2</td>\n",
       "    </tr>\n",
       "    <tr>\n",
       "      <th>4</th>\n",
       "      <td>NoDamage</td>\n",
       "      <td>1</td>\n",
       "    </tr>\n",
       "  </tbody>\n",
       "</table>\n",
       "</div>"
      ],
      "text/plain": [
       "   sidewalk  sidewalk_impact\n",
       "0    Damage                2\n",
       "1  NoDamage                1\n",
       "2  NoDamage                1\n",
       "3    Damage                2\n",
       "4  NoDamage                1"
      ]
     },
     "execution_count": 7,
     "metadata": {},
     "output_type": "execute_result"
    }
   ],
   "source": [
    "dataset1[['sidewalk', 'sidewalk_impact']].head()"
   ]
  },
  {
   "cell_type": "code",
   "execution_count": 8,
   "id": "dab619c5-cb29-43e7-8c44-942f86a0c437",
   "metadata": {
    "jupyter": {
     "source_hidden": true
    },
    "tags": []
   },
   "outputs": [],
   "source": [
    "# train.fillna('NULL', inplace=True)\n",
    "\n",
    "# train['bool_problems'] = train['problems'].apply(lambda x: 0 if x=='NULL' else 1)\n",
    "\n",
    "# # created_atをdatetime型に変換\n",
    "# train['created_at'] = pd.to_datetime(train['created_at'])\n",
    "\n",
    "# # 季節の特徴量\n",
    "# # 12~2: 1, 3~5: 2, 6~8: 3, 9~11=4\n",
    "# train['season'] = train['created_at'].dt.month%12 // 3 + 1\n",
    "# train[['created_at', 'health', 'season']][10:15]\n",
    "\n",
    "# # エリア内の平均木直径を計算\n",
    "# nta_avg_dbh = train.groupby('nta')['tree_dbh'].mean().rename('nta_avg_dbh')\n",
    "# nta_avg_dbh_df = nta_avg_dbh.reset_index()\n",
    "\n",
    "# # 木種の人気度を計算\n",
    "# spc_popularity = train['spc_common'].value_counts().rename('spc_popularity').reset_index()\n",
    "# spc_popularity = spc_popularity.rename(columns={'index': 'spc_common'})\n",
    "\n",
    "# # 地域ごとの木の健康状態の平均を計算し、列名を変更\n",
    "# nta_health_avg = train.groupby('nta')['health'].mean().rename('nta_health_avg')\n",
    "\n",
    "# # 結合のために、シリーズをDataFrameに変換\n",
    "# nta_health_avg_df = nta_health_avg.reset_index()\n",
    "# nta_health_avg_df.head()\n",
    "\n",
    "# # もし train に nta_health_avg 列が存在する場合は、その列を削除\n",
    "# if 'nta_health_avg' in train.columns:\n",
    "#     train = train.drop(columns=['nta_health_avg'])\n",
    "\n",
    "# # train と nta_health_avg_df を結合\n",
    "# train = train.merge(nta_health_avg_df, on='nta', how='left')\n",
    "\n",
    "# train[['created_at', 'health', 'nta', 'nta_health_avg']][10:15]\n",
    "\n",
    "# 地域ごとの木の種類の多様性\n",
    "# nta_spc_diversity = train.groupby('nta')['spc_common'].nunique().rename('nta_spc_diversity')\n",
    "# # 結合のために、シリーズをDataFrameに変換\n",
    "# nta_spc_diversity_df = nta_spc_diversity.reset_index()\n",
    "# nta_spc_diversity_df.head()\n",
    "\n",
    "# もし train に nta_spc_diversity 列が存在する場合は、その列を削除\n",
    "# if 'nta_spc_diversity' in train.columns:\n",
    "#     train = train.drop(columns=['nta_spc_diversity'])\n",
    "\n",
    "# # train と nta_spc_diversity_df を結合\n",
    "# train = train.merge(nta_spc_diversity_df, on='nta', how='left')\n",
    "\n",
    "# train[['created_at', 'health', 'nta', 'nta_spc_diversity']][10:15]"
   ]
  },
  {
   "cell_type": "code",
   "execution_count": 9,
   "id": "3dd48fc9-9635-4f72-b852-f7f92099cb81",
   "metadata": {
    "tags": []
   },
   "outputs": [
    {
     "data": {
      "text/html": [
       "<div>\n",
       "<style scoped>\n",
       "    .dataframe tbody tr th:only-of-type {\n",
       "        vertical-align: middle;\n",
       "    }\n",
       "\n",
       "    .dataframe tbody tr th {\n",
       "        vertical-align: top;\n",
       "    }\n",
       "\n",
       "    .dataframe thead th {\n",
       "        text-align: right;\n",
       "    }\n",
       "</style>\n",
       "<table border=\"1\" class=\"dataframe\">\n",
       "  <thead>\n",
       "    <tr style=\"text-align: right;\">\n",
       "      <th></th>\n",
       "      <th>created_at</th>\n",
       "      <th>created_at</th>\n",
       "      <th>health</th>\n",
       "      <th>tree_dbh</th>\n",
       "      <th>steward</th>\n",
       "      <th>spc_common</th>\n",
       "      <th>nta_name</th>\n",
       "      <th>bool_problems</th>\n",
       "    </tr>\n",
       "  </thead>\n",
       "  <tbody>\n",
       "    <tr>\n",
       "      <th>0</th>\n",
       "      <td>2015-06-29</td>\n",
       "      <td>2015-06-29</td>\n",
       "      <td>1</td>\n",
       "      <td>14</td>\n",
       "      <td>NULL</td>\n",
       "      <td>English oak</td>\n",
       "      <td>Douglas Manor-Douglaston-Little Neck</td>\n",
       "      <td>0</td>\n",
       "    </tr>\n",
       "    <tr>\n",
       "      <th>1</th>\n",
       "      <td>2016-09-21</td>\n",
       "      <td>2016-09-21</td>\n",
       "      <td>1</td>\n",
       "      <td>5</td>\n",
       "      <td>3or4</td>\n",
       "      <td>crimson king maple</td>\n",
       "      <td>Bedford Park-Fordham North</td>\n",
       "      <td>0</td>\n",
       "    </tr>\n",
       "    <tr>\n",
       "      <th>2</th>\n",
       "      <td>2015-09-13</td>\n",
       "      <td>2015-09-13</td>\n",
       "      <td>2</td>\n",
       "      <td>26</td>\n",
       "      <td>NULL</td>\n",
       "      <td>English oak</td>\n",
       "      <td>Annadale-Huguenot-Prince's Bay-Eltingville</td>\n",
       "      <td>1</td>\n",
       "    </tr>\n",
       "    <tr>\n",
       "      <th>3</th>\n",
       "      <td>2016-05-09</td>\n",
       "      <td>2016-05-09</td>\n",
       "      <td>0</td>\n",
       "      <td>15</td>\n",
       "      <td>NULL</td>\n",
       "      <td>honeylocust</td>\n",
       "      <td>Charleston-Richmond Valley-Tottenville</td>\n",
       "      <td>0</td>\n",
       "    </tr>\n",
       "    <tr>\n",
       "      <th>4</th>\n",
       "      <td>2016-06-24</td>\n",
       "      <td>2016-06-24</td>\n",
       "      <td>1</td>\n",
       "      <td>23</td>\n",
       "      <td>NULL</td>\n",
       "      <td>London planetree</td>\n",
       "      <td>Central Harlem North-Polo Grounds</td>\n",
       "      <td>1</td>\n",
       "    </tr>\n",
       "  </tbody>\n",
       "</table>\n",
       "</div>"
      ],
      "text/plain": [
       "  created_at created_at  health  tree_dbh steward          spc_common  \\\n",
       "0 2015-06-29 2015-06-29       1        14    NULL         English oak   \n",
       "1 2016-09-21 2016-09-21       1         5    3or4  crimson king maple   \n",
       "2 2015-09-13 2015-09-13       2        26    NULL         English oak   \n",
       "3 2016-05-09 2016-05-09       0        15    NULL         honeylocust   \n",
       "4 2016-06-24 2016-06-24       1        23    NULL    London planetree   \n",
       "\n",
       "                                     nta_name  bool_problems  \n",
       "0        Douglas Manor-Douglaston-Little Neck              0  \n",
       "1                  Bedford Park-Fordham North              0  \n",
       "2  Annadale-Huguenot-Prince's Bay-Eltingville              1  \n",
       "3      Charleston-Richmond Valley-Tottenville              0  \n",
       "4           Central Harlem North-Polo Grounds              1  "
      ]
     },
     "execution_count": 9,
     "metadata": {},
     "output_type": "execute_result"
    }
   ],
   "source": [
    "(\n",
    "    dataset1[['created_at', 'created_at', 'health', \n",
    "           'tree_dbh', 'steward', 'spc_common', \n",
    "           'nta_name', 'bool_problems']]\n",
    "    .head()\n",
    ")"
   ]
  },
  {
   "cell_type": "markdown",
   "id": "e7cc3bd6-2a1b-48b5-b197-802abdacc16d",
   "metadata": {},
   "source": [
    "## 中間データの保存"
   ]
  },
  {
   "cell_type": "code",
   "execution_count": 10,
   "id": "9b9b7da7-ae46-4fb1-9fb4-c2fb15179e54",
   "metadata": {
    "tags": []
   },
   "outputs": [],
   "source": [
    "dataset1.to_csv('../processed/fe1_dataset.csv')"
   ]
  },
  {
   "cell_type": "markdown",
   "id": "1c8684e2-b6ac-4252-bff0-65c2fb6a1631",
   "metadata": {},
   "source": [
    "## テストデータ分割"
   ]
  },
  {
   "cell_type": "code",
   "execution_count": 11,
   "id": "8b38971e-770b-43c4-a3b9-d4a5e0dfe306",
   "metadata": {
    "tags": []
   },
   "outputs": [],
   "source": [
    "# 'is_test' 列を使って元の train と test データセットに戻す\n",
    "train = dataset1[dataset1['is_test'] == 0].drop(columns=['is_test'])\n",
    "test = dataset1[dataset1['is_test'] == 1].drop(columns=['is_test', 'health'])"
   ]
  },
  {
   "cell_type": "code",
   "execution_count": 12,
   "id": "78a8a83d-405b-45c5-8ba4-a94c9e8a6092",
   "metadata": {
    "tags": []
   },
   "outputs": [],
   "source": [
    "from sklearn.model_selection import train_test_split\n",
    "# stratifyを設定することで目的変数の分布を保ったまま分割することができます。\n",
    "train, valid = train_test_split(train, test_size=0.2, stratify=train['health'], random_state=82)"
   ]
  },
  {
   "cell_type": "code",
   "execution_count": 13,
   "id": "0958f065-bafc-41f5-b482-5a9041446e25",
   "metadata": {
    "tags": []
   },
   "outputs": [
    {
     "data": {
      "text/plain": [
       "Index(['created_at', 'tree_dbh', 'curb_loc', 'health', 'steward', 'guards',\n",
       "       'sidewalk', 'user_type', 'problems', 'spc_common', 'spc_latin', 'nta',\n",
       "       'nta_name', 'borocode', 'boro_ct', 'boroname', 'zip_city', 'cb_num',\n",
       "       'st_senate', 'st_assem', 'cncldist', 'bool_problems', 'season',\n",
       "       'sidewalk_impact', 'guards_impact', 'num_steward', 'tree_type_freq',\n",
       "       'nta_health_avg', 'nta_spc_diversity', 'nta_avg_dbh', 'spc_popularity'],\n",
       "      dtype='object')"
      ]
     },
     "execution_count": 13,
     "metadata": {},
     "output_type": "execute_result"
    }
   ],
   "source": [
    "train.columns"
   ]
  },
  {
   "cell_type": "code",
   "execution_count": 14,
   "id": "57201044-fdce-46c3-a97b-d36f209c2352",
   "metadata": {
    "tags": []
   },
   "outputs": [],
   "source": [
    "# 使用する特徴量の選択\n",
    "select_cols = [\n",
    "    'tree_dbh', 'bool_problems', 'season',\n",
    "    'sidewalk_impact', 'guards_impact', 'num_steward', 'tree_type_freq',\n",
    "    'bool_problems', 'tree_type_freq', #'user_type',\n",
    "    'nta_health_avg', 'nta_spc_diversity', 'nta_avg_dbh', 'spc_popularity'\n",
    "]\n",
    "\n",
    "# 目的変数とそれ以外に学習用データを分割\n",
    "x_train = train[select_cols]\n",
    "y_train = train['health']\n",
    "x_valid = valid[select_cols]\n",
    "y_valid = valid['health']\n",
    "\n",
    "# カテゴリのままでは学習できないのでワンホットエンコーディングで数値化\n",
    "x_train = pd.get_dummies(x_train)\n",
    "x_valid = pd.get_dummies(x_valid)\n",
    "test =pd.get_dummies(test[select_cols])\n"
   ]
  },
  {
   "cell_type": "code",
   "execution_count": 15,
   "id": "2333a5ce-15b1-47d6-8888-2f8ea308da08",
   "metadata": {
    "tags": []
   },
   "outputs": [
    {
     "data": {
      "text/html": [
       "<div>\n",
       "<style scoped>\n",
       "    .dataframe tbody tr th:only-of-type {\n",
       "        vertical-align: middle;\n",
       "    }\n",
       "\n",
       "    .dataframe tbody tr th {\n",
       "        vertical-align: top;\n",
       "    }\n",
       "\n",
       "    .dataframe thead th {\n",
       "        text-align: right;\n",
       "    }\n",
       "</style>\n",
       "<table border=\"1\" class=\"dataframe\">\n",
       "  <thead>\n",
       "    <tr style=\"text-align: right;\">\n",
       "      <th></th>\n",
       "      <th>tree_dbh</th>\n",
       "      <th>bool_problems</th>\n",
       "      <th>season</th>\n",
       "      <th>sidewalk_impact</th>\n",
       "      <th>guards_impact</th>\n",
       "      <th>num_steward</th>\n",
       "      <th>tree_type_freq</th>\n",
       "      <th>bool_problems</th>\n",
       "      <th>tree_type_freq</th>\n",
       "      <th>nta_health_avg</th>\n",
       "      <th>nta_spc_diversity</th>\n",
       "      <th>nta_avg_dbh</th>\n",
       "      <th>spc_popularity</th>\n",
       "    </tr>\n",
       "  </thead>\n",
       "  <tbody>\n",
       "    <tr>\n",
       "      <th>2812</th>\n",
       "      <td>6</td>\n",
       "      <td>1</td>\n",
       "      <td>3</td>\n",
       "      <td>2</td>\n",
       "      <td>1</td>\n",
       "      <td>0</td>\n",
       "      <td>4254</td>\n",
       "      <td>1</td>\n",
       "      <td>4254</td>\n",
       "      <td>0.020067</td>\n",
       "      <td>49</td>\n",
       "      <td>12.879599</td>\n",
       "      <td>4254</td>\n",
       "    </tr>\n",
       "    <tr>\n",
       "      <th>10438</th>\n",
       "      <td>19</td>\n",
       "      <td>1</td>\n",
       "      <td>3</td>\n",
       "      <td>2</td>\n",
       "      <td>1</td>\n",
       "      <td>0</td>\n",
       "      <td>50</td>\n",
       "      <td>1</td>\n",
       "      <td>50</td>\n",
       "      <td>0.119048</td>\n",
       "      <td>15</td>\n",
       "      <td>14.928571</td>\n",
       "      <td>50</td>\n",
       "    </tr>\n",
       "    <tr>\n",
       "      <th>9859</th>\n",
       "      <td>4</td>\n",
       "      <td>0</td>\n",
       "      <td>4</td>\n",
       "      <td>2</td>\n",
       "      <td>1</td>\n",
       "      <td>0</td>\n",
       "      <td>184</td>\n",
       "      <td>0</td>\n",
       "      <td>184</td>\n",
       "      <td>-0.097872</td>\n",
       "      <td>41</td>\n",
       "      <td>13.557447</td>\n",
       "      <td>184</td>\n",
       "    </tr>\n",
       "    <tr>\n",
       "      <th>8505</th>\n",
       "      <td>4</td>\n",
       "      <td>0</td>\n",
       "      <td>3</td>\n",
       "      <td>1</td>\n",
       "      <td>1</td>\n",
       "      <td>0</td>\n",
       "      <td>51</td>\n",
       "      <td>0</td>\n",
       "      <td>51</td>\n",
       "      <td>0.014851</td>\n",
       "      <td>38</td>\n",
       "      <td>10.000000</td>\n",
       "      <td>51</td>\n",
       "    </tr>\n",
       "    <tr>\n",
       "      <th>19497</th>\n",
       "      <td>15</td>\n",
       "      <td>0</td>\n",
       "      <td>4</td>\n",
       "      <td>2</td>\n",
       "      <td>1</td>\n",
       "      <td>2</td>\n",
       "      <td>3016</td>\n",
       "      <td>0</td>\n",
       "      <td>3016</td>\n",
       "      <td>-0.052758</td>\n",
       "      <td>62</td>\n",
       "      <td>10.988010</td>\n",
       "      <td>3016</td>\n",
       "    </tr>\n",
       "  </tbody>\n",
       "</table>\n",
       "</div>"
      ],
      "text/plain": [
       "       tree_dbh  bool_problems  season  sidewalk_impact  guards_impact  \\\n",
       "2812          6              1       3                2              1   \n",
       "10438        19              1       3                2              1   \n",
       "9859          4              0       4                2              1   \n",
       "8505          4              0       3                1              1   \n",
       "19497        15              0       4                2              1   \n",
       "\n",
       "       num_steward  tree_type_freq  bool_problems  tree_type_freq  \\\n",
       "2812             0            4254              1            4254   \n",
       "10438            0              50              1              50   \n",
       "9859             0             184              0             184   \n",
       "8505             0              51              0              51   \n",
       "19497            2            3016              0            3016   \n",
       "\n",
       "       nta_health_avg  nta_spc_diversity  nta_avg_dbh  spc_popularity  \n",
       "2812         0.020067                 49    12.879599            4254  \n",
       "10438        0.119048                 15    14.928571              50  \n",
       "9859        -0.097872                 41    13.557447             184  \n",
       "8505         0.014851                 38    10.000000              51  \n",
       "19497       -0.052758                 62    10.988010            3016  "
      ]
     },
     "execution_count": 15,
     "metadata": {},
     "output_type": "execute_result"
    }
   ],
   "source": [
    "x_train.head()"
   ]
  },
  {
   "cell_type": "markdown",
   "id": "2819ba16-f46a-41ac-9895-226cf3095938",
   "metadata": {},
   "source": [
    "## ランダムフォレスト"
   ]
  },
  {
   "cell_type": "code",
   "execution_count": 16,
   "id": "152ac351-4c25-4844-9f26-2c78756891bf",
   "metadata": {
    "tags": []
   },
   "outputs": [
    {
     "name": "stdout",
     "output_type": "stream",
     "text": [
      "Validation F1 Score (Macro): 0.32525281148135127\n"
     ]
    }
   ],
   "source": [
    "from sklearn.ensemble import RandomForestClassifier\n",
    "from sklearn.metrics import f1_score\n",
    "\n",
    "model = RandomForestClassifier()\n",
    "model.fit(x_train, y_train)\n",
    "\n",
    "valid_predictions = model.predict(x_valid)\n",
    "valid_f1 = f1_score(y_valid, valid_predictions, average='macro')\n",
    "print(f\"Validation F1 Score (Macro): {valid_f1}\")\n"
   ]
  },
  {
   "cell_type": "code",
   "execution_count": 17,
   "id": "6f5b38ab-875a-4f4e-a5fa-b2a740454e2c",
   "metadata": {
    "tags": []
   },
   "outputs": [
    {
     "name": "stdout",
     "output_type": "stream",
     "text": [
      "[1 1 1 1 1 1 1 1 0 1 1 1 1 1 1]\n"
     ]
    }
   ],
   "source": [
    "pred = model.predict(test)\n",
    "print(pred[15:30])"
   ]
  },
  {
   "cell_type": "markdown",
   "id": "79fbc2d4-3d8d-4cce-8a23-b3bf553e2eac",
   "metadata": {},
   "source": [
    "## 特徴量の重要度"
   ]
  },
  {
   "cell_type": "code",
   "execution_count": 18,
   "id": "188ba4a7-b4ed-450f-9528-8721811b332f",
   "metadata": {
    "tags": []
   },
   "outputs": [
    {
     "data": {
      "image/png": "[encoded data removed]",
      "text/plain": [
       "<Figure size 1000x600 with 1 Axes>"
      ]
     },
     "metadata": {},
     "output_type": "display_data"
    }
   ],
   "source": [
    "import matplotlib.pyplot as plt\n",
    "\n",
    "# 特徴量重要度を取得\n",
    "feature_importances = model.feature_importances_\n",
    "\n",
    "# 特徴量の名前を取得\n",
    "feature_names = x_train.columns\n",
    "\n",
    "# 特徴量の重要度を降順にソート\n",
    "sorted_idx = feature_importances.argsort()\n",
    "\n",
    "# 特徴量の重要度をプロット\n",
    "plt.figure(figsize=(10, 6))\n",
    "plt.barh(feature_names[sorted_idx], feature_importances[sorted_idx])\n",
    "plt.xlabel(\"Random Forest Feature Importance\")\n",
    "plt.show()"
   ]
  },
  {
   "cell_type": "markdown",
   "id": "b315edf6-6f15-4186-a2e9-fa7eb2691d5f",
   "metadata": {},
   "source": [
    "## SHAP"
   ]
  },
  {
   "cell_type": "code",
   "execution_count": null,
   "id": "3a1fbff0-8655-46c4-8ded-80dc851dfa1f",
   "metadata": {
    "tags": []
   },
   "outputs": [],
   "source": [
    "import shap\n",
    "\n",
    "# SHAP値を計算するためのExplainerを作成\n",
    "explainer = shap.TreeExplainer(model)\n",
    "shap_values = explainer.shap_values(x_valid)"
   ]
  },
  {
   "cell_type": "code",
   "execution_count": null,
   "id": "37e7021e-6347-4867-bbb1-62abee14dced",
   "metadata": {
    "tags": []
   },
   "outputs": [],
   "source": [
    "# SHAP値をプロット（最初の10個のデータポイントに対するSHAP値）\n",
    "shap.summary_plot(shap_values, x_valid, plot_type=\"bar\", show=False)\n",
    "plt.show()\n",
    "\n",
    "# 全データに対するSHAP値の要約プロット\n",
    "shap.summary_plot(shap_values[1], x_valid)\n"
   ]
  },
  {
   "cell_type": "markdown",
   "id": "7fa0e311-f58a-4286-916f-f4529b1365c0",
   "metadata": {},
   "source": [
    "## 提出データ保存"
   ]
  },
  {
   "cell_type": "code",
   "execution_count": null,
   "id": "391109af-d814-4502-8cac-2f6afedf5cc4",
   "metadata": {
    "tags": []
   },
   "outputs": [],
   "source": [
    "sample_submit = pd.read_csv('../data/sample_submission.csv', index_col=0, header=None) # 応募用サンプルファイル\n",
    "sample_submit[1] = pred\n",
    "sample_submit.to_csv('../submit/submit4.csv', header=None)"
   ]
  },
  {
   "cell_type": "code",
   "execution_count": null,
   "id": "8e42b620-8811-49df-832a-4d8ba3612ef5",
   "metadata": {},
   "outputs": [],
   "source": []
  }
 ],
 "metadata": {
  "kernelspec": {
   "display_name": "conda_python3",
   "language": "python",
   "name": "conda_python3"
  },
  "language_info": {
   "codemirror_mode": {
    "name": "ipython",
    "version": 3
   },
   "file_extension": ".py",
   "mimetype": "text/x-python",
   "name": "python",
   "nbconvert_exporter": "python",
   "pygments_lexer": "ipython3",
   "version": "3.10.13"
  }
 },
 "nbformat": 4,
 "nbformat_minor": 5
}
